{
 "cells": [
  {
   "cell_type": "markdown",
   "source": [
    "# Install prophet"
   ],
   "metadata": {
    "collapsed": false
   },
   "id": "582cbf79058b149d"
  },
  {
   "cell_type": "code",
   "outputs": [
    {
     "name": "stdout",
     "output_type": "stream",
     "text": [
      "Channels:\r\n",
      " - conda-forge\r\n",
      " - defaults\r\n",
      "Platform: osx-arm64\r\n",
      "Collecting package metadata (repodata.json): done\r\n",
      "Solving environment: done\r\n",
      "\r\n",
      "## Package Plan ##\r\n",
      "\r\n",
      "  environment location: /Users/octamarina/miniconda3/envs/prophet\r\n",
      "\r\n",
      "  added / updated specs:\r\n",
      "    - prophet\r\n",
      "\r\n",
      "\r\n",
      "The following NEW packages will be INSTALLED:\r\n",
      "\r\n",
      "  brotli             conda-forge/osx-arm64::brotli-1.1.0-hd74edd7_2 \r\n",
      "  brotli-bin         conda-forge/osx-arm64::brotli-bin-1.1.0-hd74edd7_2 \r\n",
      "  cctools_osx-arm64  conda-forge/osx-arm64::cctools_osx-arm64-949.0.1-h92b3a8a_22 \r\n",
      "  clang              conda-forge/osx-arm64::clang-14.0.6-hce30654_0 \r\n",
      "  clang-14           conda-forge/osx-arm64::clang-14-14.0.6-default_h81a5282_0 \r\n",
      "  clang_osx-arm64    conda-forge/osx-arm64::clang_osx-arm64-14.0.6-h15773ab_6 \r\n",
      "  clangxx            conda-forge/osx-arm64::clangxx-14.0.6-default_hb7ecf47_0 \r\n",
      "  clangxx_osx-arm64  conda-forge/osx-arm64::clangxx_osx-arm64-14.0.6-he29aa18_6 \r\n",
      "  cmdstan            conda-forge/osx-arm64::cmdstan-2.31.0-hd06e7c4_0 \r\n",
      "  cmdstanpy          conda-forge/noarch::cmdstanpy-1.2.4-pyhd8ed1ab_0 \r\n",
      "  colorama           conda-forge/noarch::colorama-0.4.6-pyhd8ed1ab_0 \r\n",
      "  compiler-rt        conda-forge/osx-arm64::compiler-rt-14.0.6-h30b49de_0 \r\n",
      "  compiler-rt_osx-a~ conda-forge/noarch::compiler-rt_osx-arm64-14.0.6-h48302dc_0 \r\n",
      "  contourpy          pkgs/main/osx-arm64::contourpy-1.0.5-py38h525c30c_0 \r\n",
      "  cycler             conda-forge/noarch::cycler-0.12.1-pyhd8ed1ab_0 \r\n",
      "  fonttools          conda-forge/noarch::fonttools-4.55.3-pyhe1237c8_0 \r\n",
      "  freetype           conda-forge/osx-arm64::freetype-2.10.4-h17b34a0_1 \r\n",
      "  holidays           conda-forge/noarch::holidays-0.59-pyhd8ed1ab_0 \r\n",
      "  jbig               conda-forge/osx-arm64::jbig-2.1-h3422bc3_2003 \r\n",
      "  kiwisolver         conda-forge/osx-arm64::kiwisolver-1.3.2-py38h1670459_0 \r\n",
      "  lcms2              conda-forge/osx-arm64::lcms2-2.12-had6a04f_0 \r\n",
      "  ld64_osx-arm64     pkgs/main/osx-arm64::ld64_osx-arm64-530-h001ce53_25 \r\n",
      "  ldid               conda-forge/osx-arm64::ldid-2.1.2-h34ab4f1_3 \r\n",
      "  lerc               conda-forge/osx-arm64::lerc-2.2.1-h9f76cd9_0 \r\n",
      "  libbrotlicommon    conda-forge/osx-arm64::libbrotlicommon-1.1.0-hd74edd7_2 \r\n",
      "  libbrotlidec       conda-forge/osx-arm64::libbrotlidec-1.1.0-hd74edd7_2 \r\n",
      "  libbrotlienc       conda-forge/osx-arm64::libbrotlienc-1.1.0-hd74edd7_2 \r\n",
      "  libclang-cpp14     conda-forge/osx-arm64::libclang-cpp14-14.0.6-default_h81a5282_0 \r\n",
      "  libdeflate         conda-forge/osx-arm64::libdeflate-1.7-h27ca646_5 \r\n",
      "  libllvm12          conda-forge/osx-arm64::libllvm12-12.0.1-h93073aa_2 \r\n",
      "  libtiff            conda-forge/osx-arm64::libtiff-4.3.0-hc6122e1_1 \r\n",
      "  libwebp-base       conda-forge/osx-arm64::libwebp-base-1.5.0-h2471fea_0 \r\n",
      "  llvm-tools         pkgs/main/osx-arm64::llvm-tools-14.0.6-h7ec7a93_4 \r\n",
      "  make               conda-forge/osx-arm64::make-4.4.1-hc9fafa5_2 \r\n",
      "  matplotlib-base    pkgs/main/osx-arm64::matplotlib-base-3.7.2-py38h46d7db6_0 \r\n",
      "  munkres            conda-forge/noarch::munkres-1.1.4-pyh9f0ad1d_0 \r\n",
      "  olefile            conda-forge/noarch::olefile-0.47-pyhd8ed1ab_0 \r\n",
      "  openjpeg           conda-forge/osx-arm64::openjpeg-2.4.0-h062765e_1 \r\n",
      "  pillow             conda-forge/osx-arm64::pillow-8.3.2-py38h02acf36_0 \r\n",
      "  prophet            pkgs/main/osx-arm64::prophet-1.1.5-py38h48ca7d4_0 \r\n",
      "  pyparsing          conda-forge/noarch::pyparsing-3.0.9-pyhd8ed1ab_0 \r\n",
      "  python_abi         conda-forge/osx-arm64::python_abi-3.8-2_cp38 \r\n",
      "  stanio             conda-forge/noarch::stanio-0.5.1-pyhd8ed1ab_0 \r\n",
      "  tapi               conda-forge/osx-arm64::tapi-1100.0.11-he4954df_0 \r\n",
      "  tbb                conda-forge/osx-arm64::tbb-2021.10.0-h1995070_2 \r\n",
      "  tbb-devel          conda-forge/osx-arm64::tbb-devel-2021.10.0-hc790010_2 \r\n",
      "  tqdm               conda-forge/noarch::tqdm-4.67.1-pyhd8ed1ab_0 \r\n",
      "  unicodedata2       pkgs/main/osx-arm64::unicodedata2-15.1.0-py38h80987f9_0 \r\n",
      "\r\n",
      "The following packages will be UPDATED:\r\n",
      "\r\n",
      "  openssl              pkgs/main::openssl-3.0.15-h80987f9_0 --> conda-forge::openssl-3.4.0-h81ee809_1 \r\n",
      "\r\n",
      "The following packages will be SUPERSEDED by a higher-priority channel:\r\n",
      "\r\n",
      "  certifi            pkgs/main/osx-arm64::certifi-2024.8.3~ --> conda-forge/noarch::certifi-2024.8.30-pyhd8ed1ab_0 \r\n",
      "\r\n",
      "\r\n",
      "\r\n",
      "Downloading and Extracting Packages:\r\n",
      "\r\n",
      "Preparing transaction: done\r\n",
      "Verifying transaction: done\r\n",
      "Executing transaction: done\r\n"
     ]
    }
   ],
   "source": [
    "!conda install -c conda-forge prophet -y"
   ],
   "metadata": {
    "collapsed": true,
    "ExecuteTime": {
     "end_time": "2025-01-12T16:27:19.650160Z",
     "start_time": "2025-01-12T16:26:57.133965Z"
    }
   },
   "id": "initial_id",
   "execution_count": 1
  },
  {
   "cell_type": "code",
   "outputs": [],
   "source": [
    "import warnings\n",
    "warnings.simplefilter('ignore')"
   ],
   "metadata": {
    "collapsed": false,
    "ExecuteTime": {
     "end_time": "2025-01-12T16:18:09.707252Z",
     "start_time": "2025-01-12T16:18:09.704703Z"
    }
   },
   "id": "813f6134ec079a66",
   "execution_count": 63
  },
  {
   "cell_type": "markdown",
   "source": [
    "# Load Data and filter data"
   ],
   "metadata": {
    "collapsed": false
   },
   "id": "43a958a0841d668"
  },
  {
   "cell_type": "code",
   "outputs": [],
   "source": [
    "import pandas as pd\n",
    "df = pd.read_csv('dataset.csv')"
   ],
   "metadata": {
    "collapsed": false,
    "ExecuteTime": {
     "end_time": "2025-01-12T16:18:15.906107Z",
     "start_time": "2025-01-12T16:18:15.895366Z"
    }
   },
   "id": "a27a2d8d5d400efd",
   "execution_count": 64
  },
  {
   "cell_type": "code",
   "outputs": [
    {
     "data": {
      "text/plain": "       Date        Store        Product     Value\n0  20180101  LOS_ANGELES  TESLA_MODEL_X  2926.000\n1  20180102  LOS_ANGELES  TESLA_MODEL_X  2687.531\n2  20180103  LOS_ANGELES  TESLA_MODEL_X  2793.000\n3  20180104  LOS_ANGELES  TESLA_MODEL_X  2394.000\n4  20180105  LOS_ANGELES  TESLA_MODEL_X  2660.000",
      "text/html": "<div>\n<style scoped>\n    .dataframe tbody tr th:only-of-type {\n        vertical-align: middle;\n    }\n\n    .dataframe tbody tr th {\n        vertical-align: top;\n    }\n\n    .dataframe thead th {\n        text-align: right;\n    }\n</style>\n<table border=\"1\" class=\"dataframe\">\n  <thead>\n    <tr style=\"text-align: right;\">\n      <th></th>\n      <th>Date</th>\n      <th>Store</th>\n      <th>Product</th>\n      <th>Value</th>\n    </tr>\n  </thead>\n  <tbody>\n    <tr>\n      <th>0</th>\n      <td>20180101</td>\n      <td>LOS_ANGELES</td>\n      <td>TESLA_MODEL_X</td>\n      <td>2926.000</td>\n    </tr>\n    <tr>\n      <th>1</th>\n      <td>20180102</td>\n      <td>LOS_ANGELES</td>\n      <td>TESLA_MODEL_X</td>\n      <td>2687.531</td>\n    </tr>\n    <tr>\n      <th>2</th>\n      <td>20180103</td>\n      <td>LOS_ANGELES</td>\n      <td>TESLA_MODEL_X</td>\n      <td>2793.000</td>\n    </tr>\n    <tr>\n      <th>3</th>\n      <td>20180104</td>\n      <td>LOS_ANGELES</td>\n      <td>TESLA_MODEL_X</td>\n      <td>2394.000</td>\n    </tr>\n    <tr>\n      <th>4</th>\n      <td>20180105</td>\n      <td>LOS_ANGELES</td>\n      <td>TESLA_MODEL_X</td>\n      <td>2660.000</td>\n    </tr>\n  </tbody>\n</table>\n</div>"
     },
     "execution_count": 65,
     "metadata": {},
     "output_type": "execute_result"
    }
   ],
   "source": [
    "df.head()"
   ],
   "metadata": {
    "collapsed": false,
    "ExecuteTime": {
     "end_time": "2025-01-12T16:18:17.033584Z",
     "start_time": "2025-01-12T16:18:17.030628Z"
    }
   },
   "id": "9a8b2730338631a8",
   "execution_count": 65
  },
  {
   "cell_type": "code",
   "outputs": [
    {
     "data": {
      "text/plain": "Date         int64\nStore       object\nProduct     object\nValue      float64\ndtype: object"
     },
     "execution_count": 66,
     "metadata": {},
     "output_type": "execute_result"
    }
   ],
   "source": [
    "df.dtypes"
   ],
   "metadata": {
    "collapsed": false,
    "ExecuteTime": {
     "end_time": "2025-01-12T16:18:18.026216Z",
     "start_time": "2025-01-12T16:18:18.023488Z"
    }
   },
   "id": "18813e28f932b404",
   "execution_count": 66
  },
  {
   "cell_type": "code",
   "outputs": [
    {
     "data": {
      "text/plain": "array(['LOS_ANGELES', 'SAN_FRANCISCO'], dtype=object)"
     },
     "execution_count": 67,
     "metadata": {},
     "output_type": "execute_result"
    }
   ],
   "source": [
    "# get the unique products\n",
    "df.Store.unique()"
   ],
   "metadata": {
    "collapsed": false,
    "ExecuteTime": {
     "end_time": "2025-01-12T16:18:18.998721Z",
     "start_time": "2025-01-12T16:18:18.995892Z"
    }
   },
   "id": "55fe890648b3084b",
   "execution_count": 67
  },
  {
   "cell_type": "code",
   "outputs": [
    {
     "data": {
      "text/plain": "array(['TESLA_MODEL_X', 'TESLA_MODEL_S'], dtype=object)"
     },
     "execution_count": 68,
     "metadata": {},
     "output_type": "execute_result"
    }
   ],
   "source": [
    "df.Product.unique()"
   ],
   "metadata": {
    "collapsed": false,
    "ExecuteTime": {
     "end_time": "2025-01-12T16:18:19.972734Z",
     "start_time": "2025-01-12T16:18:19.970279Z"
    }
   },
   "id": "3569aae7311f57dd",
   "execution_count": 68
  },
  {
   "cell_type": "code",
   "outputs": [],
   "source": [
    "# filter to have just los angeles and tesla model x\n",
    "df = df[(df['Store'] == 'LOS_ANGELES')&(df['Product']=='TESLA_MODEL_X')]"
   ],
   "metadata": {
    "collapsed": false,
    "ExecuteTime": {
     "end_time": "2025-01-12T16:18:20.398793Z",
     "start_time": "2025-01-12T16:18:20.396594Z"
    }
   },
   "id": "c239d04cc8e08f57",
   "execution_count": 69
  },
  {
   "cell_type": "markdown",
   "source": [
    "So we have to create:\n",
    "   - A Los Angeles model for the model X\n",
    "   - A Los Angeles model for the model S\n",
    "   - A San Francisco model for the model X\n",
    "   - A San Francisco model fro the model S"
   ],
   "metadata": {
    "collapsed": false
   },
   "id": "2e4d4b5ba8f384bb"
  },
  {
   "cell_type": "markdown",
   "source": [
    "# Preprocess and Create Partitions\n",
    "We have to split it based on a date"
   ],
   "metadata": {
    "collapsed": false
   },
   "id": "57aaa8c789ae68a5"
  },
  {
   "cell_type": "code",
   "outputs": [
    {
     "data": {
      "text/plain": "dtype('int64')"
     },
     "execution_count": 70,
     "metadata": {},
     "output_type": "execute_result"
    }
   ],
   "source": [
    "df.Date.dtypes"
   ],
   "metadata": {
    "collapsed": false,
    "ExecuteTime": {
     "end_time": "2025-01-12T16:18:22.398277Z",
     "start_time": "2025-01-12T16:18:22.388941Z"
    }
   },
   "id": "799fed3490a7a16a",
   "execution_count": 70
  },
  {
   "cell_type": "code",
   "outputs": [],
   "source": [
    "df['ds'] = pd.to_datetime(df.Date, format='%Y%m%d')"
   ],
   "metadata": {
    "collapsed": false,
    "ExecuteTime": {
     "end_time": "2025-01-12T16:18:22.809052Z",
     "start_time": "2025-01-12T16:18:22.789240Z"
    }
   },
   "id": "9229c9a2714be033",
   "execution_count": 71
  },
  {
   "cell_type": "code",
   "outputs": [
    {
     "data": {
      "text/plain": "       Date        Store        Product     Value         ds\n0  20180101  LOS_ANGELES  TESLA_MODEL_X  2926.000 2018-01-01\n1  20180102  LOS_ANGELES  TESLA_MODEL_X  2687.531 2018-01-02\n2  20180103  LOS_ANGELES  TESLA_MODEL_X  2793.000 2018-01-03\n3  20180104  LOS_ANGELES  TESLA_MODEL_X  2394.000 2018-01-04\n4  20180105  LOS_ANGELES  TESLA_MODEL_X  2660.000 2018-01-05",
      "text/html": "<div>\n<style scoped>\n    .dataframe tbody tr th:only-of-type {\n        vertical-align: middle;\n    }\n\n    .dataframe tbody tr th {\n        vertical-align: top;\n    }\n\n    .dataframe thead th {\n        text-align: right;\n    }\n</style>\n<table border=\"1\" class=\"dataframe\">\n  <thead>\n    <tr style=\"text-align: right;\">\n      <th></th>\n      <th>Date</th>\n      <th>Store</th>\n      <th>Product</th>\n      <th>Value</th>\n      <th>ds</th>\n    </tr>\n  </thead>\n  <tbody>\n    <tr>\n      <th>0</th>\n      <td>20180101</td>\n      <td>LOS_ANGELES</td>\n      <td>TESLA_MODEL_X</td>\n      <td>2926.000</td>\n      <td>2018-01-01</td>\n    </tr>\n    <tr>\n      <th>1</th>\n      <td>20180102</td>\n      <td>LOS_ANGELES</td>\n      <td>TESLA_MODEL_X</td>\n      <td>2687.531</td>\n      <td>2018-01-02</td>\n    </tr>\n    <tr>\n      <th>2</th>\n      <td>20180103</td>\n      <td>LOS_ANGELES</td>\n      <td>TESLA_MODEL_X</td>\n      <td>2793.000</td>\n      <td>2018-01-03</td>\n    </tr>\n    <tr>\n      <th>3</th>\n      <td>20180104</td>\n      <td>LOS_ANGELES</td>\n      <td>TESLA_MODEL_X</td>\n      <td>2394.000</td>\n      <td>2018-01-04</td>\n    </tr>\n    <tr>\n      <th>4</th>\n      <td>20180105</td>\n      <td>LOS_ANGELES</td>\n      <td>TESLA_MODEL_X</td>\n      <td>2660.000</td>\n      <td>2018-01-05</td>\n    </tr>\n  </tbody>\n</table>\n</div>"
     },
     "execution_count": 72,
     "metadata": {},
     "output_type": "execute_result"
    }
   ],
   "source": [
    "df.head()"
   ],
   "metadata": {
    "collapsed": false,
    "ExecuteTime": {
     "end_time": "2025-01-12T16:18:23.458729Z",
     "start_time": "2025-01-12T16:18:23.432283Z"
    }
   },
   "id": "1bad253c0f60880c",
   "execution_count": 72
  },
  {
   "cell_type": "code",
   "outputs": [],
   "source": [
    "df['day'] = df['ds'].dt.day\n",
    "df['month'] = df['ds'].dt.month\n",
    "df['year'] = df['ds'].dt.year"
   ],
   "metadata": {
    "collapsed": false,
    "ExecuteTime": {
     "end_time": "2025-01-12T16:18:24.125038Z",
     "start_time": "2025-01-12T16:18:24.120823Z"
    }
   },
   "id": "d3d53fe83d82f6a5",
   "execution_count": 73
  },
  {
   "cell_type": "code",
   "outputs": [
    {
     "data": {
      "text/plain": "        Date        Store        Product      Value         ds  day  month  \\\n0   20180101  LOS_ANGELES  TESLA_MODEL_X  2926.0000 2018-01-01    1      1   \n1   20180102  LOS_ANGELES  TESLA_MODEL_X  2687.5310 2018-01-02    2      1   \n2   20180103  LOS_ANGELES  TESLA_MODEL_X  2793.0000 2018-01-03    3      1   \n3   20180104  LOS_ANGELES  TESLA_MODEL_X  2394.0000 2018-01-04    4      1   \n4   20180105  LOS_ANGELES  TESLA_MODEL_X  2660.0000 2018-01-05    5      1   \n5   20180106  LOS_ANGELES  TESLA_MODEL_X  2527.0000 2018-01-06    6      1   \n6   20180107  LOS_ANGELES  TESLA_MODEL_X  2527.0000 2018-01-07    7      1   \n7   20180108  LOS_ANGELES  TESLA_MODEL_X  2793.0000 2018-01-08    8      1   \n8   20180109  LOS_ANGELES  TESLA_MODEL_X  2793.0000 2018-01-09    9      1   \n9   20180110  LOS_ANGELES  TESLA_MODEL_X  2793.0000 2018-01-10   10      1   \n10  20180111  LOS_ANGELES  TESLA_MODEL_X  2926.0000 2018-01-11   11      1   \n11  20180112  LOS_ANGELES  TESLA_MODEL_X  2793.0000 2018-01-12   12      1   \n12  20180113  LOS_ANGELES  TESLA_MODEL_X  2869.8208 2018-01-13   13      1   \n13  20180114  LOS_ANGELES  TESLA_MODEL_X  3325.0000 2018-01-14   14      1   \n14  20180115  LOS_ANGELES  TESLA_MODEL_X  2261.0000 2018-01-15   15      1   \n15  20180116  LOS_ANGELES  TESLA_MODEL_X  2261.0000 2018-01-16   16      1   \n16  20180117  LOS_ANGELES  TESLA_MODEL_X  2253.6850 2018-01-17   17      1   \n17  20180118  LOS_ANGELES  TESLA_MODEL_X  2394.0000 2018-01-18   18      1   \n18  20180119  LOS_ANGELES  TESLA_MODEL_X  2394.0000 2018-01-19   19      1   \n19  20180120  LOS_ANGELES  TESLA_MODEL_X  2394.0000 2018-01-20   20      1   \n20  20180121  LOS_ANGELES  TESLA_MODEL_X  2527.0000 2018-01-21   21      1   \n21  20180122  LOS_ANGELES  TESLA_MODEL_X  2793.0000 2018-01-22   22      1   \n22  20180123  LOS_ANGELES  TESLA_MODEL_X  2660.0000 2018-01-23   23      1   \n23  20180124  LOS_ANGELES  TESLA_MODEL_X  2547.1362 2018-01-24   24      1   \n24  20180125  LOS_ANGELES  TESLA_MODEL_X  2926.0000 2018-01-25   25      1   \n\n    year  \n0   2018  \n1   2018  \n2   2018  \n3   2018  \n4   2018  \n5   2018  \n6   2018  \n7   2018  \n8   2018  \n9   2018  \n10  2018  \n11  2018  \n12  2018  \n13  2018  \n14  2018  \n15  2018  \n16  2018  \n17  2018  \n18  2018  \n19  2018  \n20  2018  \n21  2018  \n22  2018  \n23  2018  \n24  2018  ",
      "text/html": "<div>\n<style scoped>\n    .dataframe tbody tr th:only-of-type {\n        vertical-align: middle;\n    }\n\n    .dataframe tbody tr th {\n        vertical-align: top;\n    }\n\n    .dataframe thead th {\n        text-align: right;\n    }\n</style>\n<table border=\"1\" class=\"dataframe\">\n  <thead>\n    <tr style=\"text-align: right;\">\n      <th></th>\n      <th>Date</th>\n      <th>Store</th>\n      <th>Product</th>\n      <th>Value</th>\n      <th>ds</th>\n      <th>day</th>\n      <th>month</th>\n      <th>year</th>\n    </tr>\n  </thead>\n  <tbody>\n    <tr>\n      <th>0</th>\n      <td>20180101</td>\n      <td>LOS_ANGELES</td>\n      <td>TESLA_MODEL_X</td>\n      <td>2926.0000</td>\n      <td>2018-01-01</td>\n      <td>1</td>\n      <td>1</td>\n      <td>2018</td>\n    </tr>\n    <tr>\n      <th>1</th>\n      <td>20180102</td>\n      <td>LOS_ANGELES</td>\n      <td>TESLA_MODEL_X</td>\n      <td>2687.5310</td>\n      <td>2018-01-02</td>\n      <td>2</td>\n      <td>1</td>\n      <td>2018</td>\n    </tr>\n    <tr>\n      <th>2</th>\n      <td>20180103</td>\n      <td>LOS_ANGELES</td>\n      <td>TESLA_MODEL_X</td>\n      <td>2793.0000</td>\n      <td>2018-01-03</td>\n      <td>3</td>\n      <td>1</td>\n      <td>2018</td>\n    </tr>\n    <tr>\n      <th>3</th>\n      <td>20180104</td>\n      <td>LOS_ANGELES</td>\n      <td>TESLA_MODEL_X</td>\n      <td>2394.0000</td>\n      <td>2018-01-04</td>\n      <td>4</td>\n      <td>1</td>\n      <td>2018</td>\n    </tr>\n    <tr>\n      <th>4</th>\n      <td>20180105</td>\n      <td>LOS_ANGELES</td>\n      <td>TESLA_MODEL_X</td>\n      <td>2660.0000</td>\n      <td>2018-01-05</td>\n      <td>5</td>\n      <td>1</td>\n      <td>2018</td>\n    </tr>\n    <tr>\n      <th>5</th>\n      <td>20180106</td>\n      <td>LOS_ANGELES</td>\n      <td>TESLA_MODEL_X</td>\n      <td>2527.0000</td>\n      <td>2018-01-06</td>\n      <td>6</td>\n      <td>1</td>\n      <td>2018</td>\n    </tr>\n    <tr>\n      <th>6</th>\n      <td>20180107</td>\n      <td>LOS_ANGELES</td>\n      <td>TESLA_MODEL_X</td>\n      <td>2527.0000</td>\n      <td>2018-01-07</td>\n      <td>7</td>\n      <td>1</td>\n      <td>2018</td>\n    </tr>\n    <tr>\n      <th>7</th>\n      <td>20180108</td>\n      <td>LOS_ANGELES</td>\n      <td>TESLA_MODEL_X</td>\n      <td>2793.0000</td>\n      <td>2018-01-08</td>\n      <td>8</td>\n      <td>1</td>\n      <td>2018</td>\n    </tr>\n    <tr>\n      <th>8</th>\n      <td>20180109</td>\n      <td>LOS_ANGELES</td>\n      <td>TESLA_MODEL_X</td>\n      <td>2793.0000</td>\n      <td>2018-01-09</td>\n      <td>9</td>\n      <td>1</td>\n      <td>2018</td>\n    </tr>\n    <tr>\n      <th>9</th>\n      <td>20180110</td>\n      <td>LOS_ANGELES</td>\n      <td>TESLA_MODEL_X</td>\n      <td>2793.0000</td>\n      <td>2018-01-10</td>\n      <td>10</td>\n      <td>1</td>\n      <td>2018</td>\n    </tr>\n    <tr>\n      <th>10</th>\n      <td>20180111</td>\n      <td>LOS_ANGELES</td>\n      <td>TESLA_MODEL_X</td>\n      <td>2926.0000</td>\n      <td>2018-01-11</td>\n      <td>11</td>\n      <td>1</td>\n      <td>2018</td>\n    </tr>\n    <tr>\n      <th>11</th>\n      <td>20180112</td>\n      <td>LOS_ANGELES</td>\n      <td>TESLA_MODEL_X</td>\n      <td>2793.0000</td>\n      <td>2018-01-12</td>\n      <td>12</td>\n      <td>1</td>\n      <td>2018</td>\n    </tr>\n    <tr>\n      <th>12</th>\n      <td>20180113</td>\n      <td>LOS_ANGELES</td>\n      <td>TESLA_MODEL_X</td>\n      <td>2869.8208</td>\n      <td>2018-01-13</td>\n      <td>13</td>\n      <td>1</td>\n      <td>2018</td>\n    </tr>\n    <tr>\n      <th>13</th>\n      <td>20180114</td>\n      <td>LOS_ANGELES</td>\n      <td>TESLA_MODEL_X</td>\n      <td>3325.0000</td>\n      <td>2018-01-14</td>\n      <td>14</td>\n      <td>1</td>\n      <td>2018</td>\n    </tr>\n    <tr>\n      <th>14</th>\n      <td>20180115</td>\n      <td>LOS_ANGELES</td>\n      <td>TESLA_MODEL_X</td>\n      <td>2261.0000</td>\n      <td>2018-01-15</td>\n      <td>15</td>\n      <td>1</td>\n      <td>2018</td>\n    </tr>\n    <tr>\n      <th>15</th>\n      <td>20180116</td>\n      <td>LOS_ANGELES</td>\n      <td>TESLA_MODEL_X</td>\n      <td>2261.0000</td>\n      <td>2018-01-16</td>\n      <td>16</td>\n      <td>1</td>\n      <td>2018</td>\n    </tr>\n    <tr>\n      <th>16</th>\n      <td>20180117</td>\n      <td>LOS_ANGELES</td>\n      <td>TESLA_MODEL_X</td>\n      <td>2253.6850</td>\n      <td>2018-01-17</td>\n      <td>17</td>\n      <td>1</td>\n      <td>2018</td>\n    </tr>\n    <tr>\n      <th>17</th>\n      <td>20180118</td>\n      <td>LOS_ANGELES</td>\n      <td>TESLA_MODEL_X</td>\n      <td>2394.0000</td>\n      <td>2018-01-18</td>\n      <td>18</td>\n      <td>1</td>\n      <td>2018</td>\n    </tr>\n    <tr>\n      <th>18</th>\n      <td>20180119</td>\n      <td>LOS_ANGELES</td>\n      <td>TESLA_MODEL_X</td>\n      <td>2394.0000</td>\n      <td>2018-01-19</td>\n      <td>19</td>\n      <td>1</td>\n      <td>2018</td>\n    </tr>\n    <tr>\n      <th>19</th>\n      <td>20180120</td>\n      <td>LOS_ANGELES</td>\n      <td>TESLA_MODEL_X</td>\n      <td>2394.0000</td>\n      <td>2018-01-20</td>\n      <td>20</td>\n      <td>1</td>\n      <td>2018</td>\n    </tr>\n    <tr>\n      <th>20</th>\n      <td>20180121</td>\n      <td>LOS_ANGELES</td>\n      <td>TESLA_MODEL_X</td>\n      <td>2527.0000</td>\n      <td>2018-01-21</td>\n      <td>21</td>\n      <td>1</td>\n      <td>2018</td>\n    </tr>\n    <tr>\n      <th>21</th>\n      <td>20180122</td>\n      <td>LOS_ANGELES</td>\n      <td>TESLA_MODEL_X</td>\n      <td>2793.0000</td>\n      <td>2018-01-22</td>\n      <td>22</td>\n      <td>1</td>\n      <td>2018</td>\n    </tr>\n    <tr>\n      <th>22</th>\n      <td>20180123</td>\n      <td>LOS_ANGELES</td>\n      <td>TESLA_MODEL_X</td>\n      <td>2660.0000</td>\n      <td>2018-01-23</td>\n      <td>23</td>\n      <td>1</td>\n      <td>2018</td>\n    </tr>\n    <tr>\n      <th>23</th>\n      <td>20180124</td>\n      <td>LOS_ANGELES</td>\n      <td>TESLA_MODEL_X</td>\n      <td>2547.1362</td>\n      <td>2018-01-24</td>\n      <td>24</td>\n      <td>1</td>\n      <td>2018</td>\n    </tr>\n    <tr>\n      <th>24</th>\n      <td>20180125</td>\n      <td>LOS_ANGELES</td>\n      <td>TESLA_MODEL_X</td>\n      <td>2926.0000</td>\n      <td>2018-01-25</td>\n      <td>25</td>\n      <td>1</td>\n      <td>2018</td>\n    </tr>\n  </tbody>\n</table>\n</div>"
     },
     "execution_count": 74,
     "metadata": {},
     "output_type": "execute_result"
    }
   ],
   "source": [
    "df.head(25)"
   ],
   "metadata": {
    "collapsed": false,
    "ExecuteTime": {
     "end_time": "2025-01-12T16:18:24.960191Z",
     "start_time": "2025-01-12T16:18:24.952702Z"
    }
   },
   "id": "255814967c3317a1",
   "execution_count": 74
  },
  {
   "cell_type": "code",
   "outputs": [],
   "source": [
    "df.drop(['Date','Store','Product','day','month','year'], axis=1, inplace=True)"
   ],
   "metadata": {
    "collapsed": false,
    "ExecuteTime": {
     "end_time": "2025-01-12T16:18:25.788804Z",
     "start_time": "2025-01-12T16:18:25.786545Z"
    }
   },
   "id": "d04f5ce9b5ca81db",
   "execution_count": 75
  },
  {
   "cell_type": "code",
   "outputs": [],
   "source": [
    "df.columns = ['y','ds']"
   ],
   "metadata": {
    "collapsed": false,
    "ExecuteTime": {
     "end_time": "2025-01-12T16:18:26.169205Z",
     "start_time": "2025-01-12T16:18:26.166249Z"
    }
   },
   "id": "b8e59e4e6c71542e",
   "execution_count": 76
  },
  {
   "cell_type": "code",
   "outputs": [
    {
     "data": {
      "text/plain": "                y         ds\n0     2926.000000 2018-01-01\n1     2687.531000 2018-01-02\n2     2793.000000 2018-01-03\n3     2394.000000 2018-01-04\n4     2660.000000 2018-01-05\n...           ...        ...\n1075  3167.594500 2020-12-12\n1076  3167.594500 2020-12-13\n1077  3383.354511 2020-12-14\n1078  2714.591329 2020-12-15\n1079  2585.035107 2020-12-16\n\n[1080 rows x 2 columns]",
      "text/html": "<div>\n<style scoped>\n    .dataframe tbody tr th:only-of-type {\n        vertical-align: middle;\n    }\n\n    .dataframe tbody tr th {\n        vertical-align: top;\n    }\n\n    .dataframe thead th {\n        text-align: right;\n    }\n</style>\n<table border=\"1\" class=\"dataframe\">\n  <thead>\n    <tr style=\"text-align: right;\">\n      <th></th>\n      <th>y</th>\n      <th>ds</th>\n    </tr>\n  </thead>\n  <tbody>\n    <tr>\n      <th>0</th>\n      <td>2926.000000</td>\n      <td>2018-01-01</td>\n    </tr>\n    <tr>\n      <th>1</th>\n      <td>2687.531000</td>\n      <td>2018-01-02</td>\n    </tr>\n    <tr>\n      <th>2</th>\n      <td>2793.000000</td>\n      <td>2018-01-03</td>\n    </tr>\n    <tr>\n      <th>3</th>\n      <td>2394.000000</td>\n      <td>2018-01-04</td>\n    </tr>\n    <tr>\n      <th>4</th>\n      <td>2660.000000</td>\n      <td>2018-01-05</td>\n    </tr>\n    <tr>\n      <th>...</th>\n      <td>...</td>\n      <td>...</td>\n    </tr>\n    <tr>\n      <th>1075</th>\n      <td>3167.594500</td>\n      <td>2020-12-12</td>\n    </tr>\n    <tr>\n      <th>1076</th>\n      <td>3167.594500</td>\n      <td>2020-12-13</td>\n    </tr>\n    <tr>\n      <th>1077</th>\n      <td>3383.354511</td>\n      <td>2020-12-14</td>\n    </tr>\n    <tr>\n      <th>1078</th>\n      <td>2714.591329</td>\n      <td>2020-12-15</td>\n    </tr>\n    <tr>\n      <th>1079</th>\n      <td>2585.035107</td>\n      <td>2020-12-16</td>\n    </tr>\n  </tbody>\n</table>\n<p>1080 rows × 2 columns</p>\n</div>"
     },
     "execution_count": 77,
     "metadata": {},
     "output_type": "execute_result"
    }
   ],
   "source": [
    "df"
   ],
   "metadata": {
    "collapsed": false,
    "ExecuteTime": {
     "end_time": "2025-01-12T16:18:26.658571Z",
     "start_time": "2025-01-12T16:18:26.653518Z"
    }
   },
   "id": "6a0090c0c03a1f44",
   "execution_count": 77
  },
  {
   "cell_type": "markdown",
   "source": [
    "# Visualize the data"
   ],
   "metadata": {
    "collapsed": false
   },
   "id": "31cf8b031ee63aee"
  },
  {
   "cell_type": "code",
   "outputs": [],
   "source": [
    "import seaborn as sns\n",
    "from matplotlib import pyplot as plt"
   ],
   "metadata": {
    "collapsed": false,
    "ExecuteTime": {
     "end_time": "2025-01-12T16:19:33.101818Z",
     "start_time": "2025-01-12T16:19:33.097608Z"
    }
   },
   "id": "3ee7f53847b755d9",
   "execution_count": 78
  },
  {
   "cell_type": "code",
   "outputs": [
    {
     "data": {
      "text/plain": "<Figure size 1000x700 with 1 Axes>",
      "image/png": "[encoded data removed]"
     },
     "metadata": {},
     "output_type": "display_data"
    }
   ],
   "source": [
    "plt.figure(figsize=(10,7))\n",
    "sns.lineplot(data=df, x=df['ds'], y=df['y'])\n",
    "plt.title(\"Sales over time\")\n",
    "plt.show()"
   ],
   "metadata": {
    "collapsed": false,
    "ExecuteTime": {
     "end_time": "2025-01-12T16:19:34.567260Z",
     "start_time": "2025-01-12T16:19:34.398407Z"
    }
   },
   "id": "6a08a1872aeb4fb4",
   "execution_count": 79
  },
  {
   "cell_type": "markdown",
   "source": [
    "# Create train and test splits"
   ],
   "metadata": {
    "collapsed": false
   },
   "id": "7db7dd50b5d1aa6a"
  },
  {
   "cell_type": "code",
   "outputs": [
    {
     "data": {
      "text/plain": "Timestamp('2018-01-01 00:00:00')"
     },
     "execution_count": 80,
     "metadata": {},
     "output_type": "execute_result"
    }
   ],
   "source": [
    "df['ds'].min()"
   ],
   "metadata": {
    "collapsed": false,
    "ExecuteTime": {
     "end_time": "2025-01-12T16:19:36.332465Z",
     "start_time": "2025-01-12T16:19:36.328681Z"
    }
   },
   "id": "fed271083bdc93c",
   "execution_count": 80
  },
  {
   "cell_type": "code",
   "outputs": [
    {
     "data": {
      "text/plain": "Timestamp('2020-12-16 00:00:00')"
     },
     "execution_count": 81,
     "metadata": {},
     "output_type": "execute_result"
    }
   ],
   "source": [
    "df['ds'].max()"
   ],
   "metadata": {
    "collapsed": false,
    "ExecuteTime": {
     "end_time": "2025-01-12T16:19:36.605981Z",
     "start_time": "2025-01-12T16:19:36.600425Z"
    }
   },
   "id": "5c23fed7feb63a7e",
   "execution_count": 81
  },
  {
   "cell_type": "code",
   "outputs": [],
   "source": [
    "train = df[df['ds'] < '2020-06-30 00:00']\n",
    "test = df[df['ds'] > '2020-06-30 00:00']"
   ],
   "metadata": {
    "collapsed": false,
    "ExecuteTime": {
     "end_time": "2025-01-12T16:19:36.813915Z",
     "start_time": "2025-01-12T16:19:36.809631Z"
    }
   },
   "id": "7197f0183f36251a",
   "execution_count": 82
  },
  {
   "cell_type": "code",
   "outputs": [
    {
     "data": {
      "text/plain": "(910, 2)"
     },
     "execution_count": 83,
     "metadata": {},
     "output_type": "execute_result"
    }
   ],
   "source": [
    "train.shape"
   ],
   "metadata": {
    "collapsed": false,
    "ExecuteTime": {
     "end_time": "2025-01-12T16:19:37.041282Z",
     "start_time": "2025-01-12T16:19:37.036137Z"
    }
   },
   "id": "a0e777af22191c21",
   "execution_count": 83
  },
  {
   "cell_type": "code",
   "outputs": [
    {
     "data": {
      "text/plain": "(169, 2)"
     },
     "execution_count": 84,
     "metadata": {},
     "output_type": "execute_result"
    }
   ],
   "source": [
    "test.shape"
   ],
   "metadata": {
    "collapsed": false,
    "ExecuteTime": {
     "end_time": "2025-01-12T16:19:37.625928Z",
     "start_time": "2025-01-12T16:19:37.622251Z"
    }
   },
   "id": "5e4b8c42107ee0f3",
   "execution_count": 84
  },
  {
   "cell_type": "markdown",
   "source": [
    "# Create a prophet model"
   ],
   "metadata": {
    "collapsed": false
   },
   "id": "77f5735cbe79d5bf"
  },
  {
   "cell_type": "code",
   "outputs": [
    {
     "name": "stdout",
     "output_type": "stream",
     "text": [
      "Requirement already satisfied: prophet in /Users/octamarina/miniconda3/envs/Tesla-forecasting/lib/python3.9/site-packages (1.1.5)\r\n",
      "Requirement already satisfied: cmdstanpy>=1.0.4 in /Users/octamarina/miniconda3/envs/Tesla-forecasting/lib/python3.9/site-packages (from prophet) (1.2.4)\r\n",
      "Requirement already satisfied: numpy>=1.15.4 in /Users/octamarina/miniconda3/envs/Tesla-forecasting/lib/python3.9/site-packages (from prophet) (1.26.4)\r\n",
      "Requirement already satisfied: matplotlib>=2.0.0 in /Users/octamarina/miniconda3/envs/Tesla-forecasting/lib/python3.9/site-packages (from prophet) (3.9.2)\r\n",
      "Requirement already satisfied: pandas>=1.0.4 in /Users/octamarina/miniconda3/envs/Tesla-forecasting/lib/python3.9/site-packages (from prophet) (2.2.3)\r\n",
      "Requirement already satisfied: holidays>=0.25 in /Users/octamarina/miniconda3/envs/Tesla-forecasting/lib/python3.9/site-packages (from prophet) (0.59)\r\n",
      "Requirement already satisfied: tqdm>=4.36.1 in /Users/octamarina/miniconda3/envs/Tesla-forecasting/lib/python3.9/site-packages (from prophet) (4.67.1)\r\n",
      "Requirement already satisfied: importlib-resources in /Users/octamarina/miniconda3/envs/Tesla-forecasting/lib/python3.9/site-packages (from prophet) (6.4.0)\r\n",
      "Requirement already satisfied: stanio<2.0.0,>=0.4.0 in /Users/octamarina/miniconda3/envs/Tesla-forecasting/lib/python3.9/site-packages (from cmdstanpy>=1.0.4->prophet) (0.5.1)\r\n",
      "Requirement already satisfied: python-dateutil in /Users/octamarina/miniconda3/envs/Tesla-forecasting/lib/python3.9/site-packages (from holidays>=0.25->prophet) (2.9.0.post0)\r\n",
      "Requirement already satisfied: contourpy>=1.0.1 in /Users/octamarina/miniconda3/envs/Tesla-forecasting/lib/python3.9/site-packages (from matplotlib>=2.0.0->prophet) (1.2.0)\r\n",
      "Requirement already satisfied: cycler>=0.10 in /Users/octamarina/miniconda3/envs/Tesla-forecasting/lib/python3.9/site-packages (from matplotlib>=2.0.0->prophet) (0.12.1)\r\n",
      "Requirement already satisfied: fonttools>=4.22.0 in /Users/octamarina/miniconda3/envs/Tesla-forecasting/lib/python3.9/site-packages (from matplotlib>=2.0.0->prophet) (4.55.3)\r\n",
      "Requirement already satisfied: kiwisolver>=1.3.1 in /Users/octamarina/miniconda3/envs/Tesla-forecasting/lib/python3.9/site-packages (from matplotlib>=2.0.0->prophet) (1.4.4)\r\n",
      "Requirement already satisfied: packaging>=20.0 in /Users/octamarina/miniconda3/envs/Tesla-forecasting/lib/python3.9/site-packages (from matplotlib>=2.0.0->prophet) (24.2)\r\n",
      "Requirement already satisfied: pillow>=8 in /Users/octamarina/miniconda3/envs/Tesla-forecasting/lib/python3.9/site-packages (from matplotlib>=2.0.0->prophet) (11.0.0)\r\n",
      "Requirement already satisfied: pyparsing>=2.3.1 in /Users/octamarina/miniconda3/envs/Tesla-forecasting/lib/python3.9/site-packages (from matplotlib>=2.0.0->prophet) (3.0.9)\r\n",
      "Requirement already satisfied: zipp>=3.1.0 in /Users/octamarina/miniconda3/envs/Tesla-forecasting/lib/python3.9/site-packages (from importlib-resources->prophet) (3.21.0)\r\n",
      "Requirement already satisfied: pytz>=2020.1 in /Users/octamarina/miniconda3/envs/Tesla-forecasting/lib/python3.9/site-packages (from pandas>=1.0.4->prophet) (2024.1)\r\n",
      "Requirement already satisfied: tzdata>=2022.7 in /Users/octamarina/miniconda3/envs/Tesla-forecasting/lib/python3.9/site-packages (from pandas>=1.0.4->prophet) (2023.3)\r\n",
      "Requirement already satisfied: six>=1.5 in /Users/octamarina/miniconda3/envs/Tesla-forecasting/lib/python3.9/site-packages (from python-dateutil->holidays>=0.25->prophet) (1.16.0)\r\n"
     ]
    }
   ],
   "source": [
    "!pip install prophet"
   ],
   "metadata": {
    "collapsed": false,
    "ExecuteTime": {
     "end_time": "2025-01-12T16:21:54.653587Z",
     "start_time": "2025-01-12T16:21:54.004337Z"
    }
   },
   "id": "79f20cc752763063",
   "execution_count": 92
  },
  {
   "cell_type": "code",
   "outputs": [
    {
     "ename": "ModuleNotFoundError",
     "evalue": "No module named 'prophet'",
     "output_type": "error",
     "traceback": [
      "\u001B[0;31m---------------------------------------------------------------------------\u001B[0m",
      "\u001B[0;31mModuleNotFoundError\u001B[0m                       Traceback (most recent call last)",
      "Cell \u001B[0;32mIn[93], line 1\u001B[0m\n\u001B[0;32m----> 1\u001B[0m \u001B[38;5;28;01mfrom\u001B[39;00m \u001B[38;5;21;01mprophet\u001B[39;00m \u001B[38;5;28;01mimport\u001B[39;00m Prophet\n\u001B[1;32m      2\u001B[0m \u001B[38;5;28mprint\u001B[39m(\u001B[38;5;124m\"\u001B[39m\u001B[38;5;124mProphet este instalat!\u001B[39m\u001B[38;5;124m\"\u001B[39m)\n",
      "\u001B[0;31mModuleNotFoundError\u001B[0m: No module named 'prophet'"
     ]
    }
   ],
   "source": [
    "from prophet import Prophet\n",
    "print(\"Prophet este instalat!\")"
   ],
   "metadata": {
    "collapsed": false,
    "ExecuteTime": {
     "end_time": "2025-01-12T16:21:55.727763Z",
     "start_time": "2025-01-12T16:21:55.712782Z"
    }
   },
   "id": "191eb59ea471050",
   "execution_count": 93
  },
  {
   "cell_type": "code",
   "outputs": [
    {
     "ename": "NameError",
     "evalue": "name 'Prophet' is not defined",
     "output_type": "error",
     "traceback": [
      "\u001B[0;31m---------------------------------------------------------------------------\u001B[0m",
      "\u001B[0;31mNameError\u001B[0m                                 Traceback (most recent call last)",
      "Cell \u001B[0;32mIn[90], line 1\u001B[0m\n\u001B[0;32m----> 1\u001B[0m m \u001B[38;5;241m=\u001B[39m \u001B[43mProphet\u001B[49m()\n\u001B[1;32m      2\u001B[0m model \u001B[38;5;241m=\u001B[39m m\u001B[38;5;241m.\u001B[39mfit(train)\n",
      "\u001B[0;31mNameError\u001B[0m: name 'Prophet' is not defined"
     ]
    }
   ],
   "source": [
    "m = Prophet()\n",
    "model = m.fit(train)"
   ],
   "metadata": {
    "collapsed": false,
    "ExecuteTime": {
     "end_time": "2025-01-12T16:20:57.149147Z",
     "start_time": "2025-01-12T16:20:57.146838Z"
    }
   },
   "id": "d448026e008d7dae",
   "execution_count": 90
  },
  {
   "cell_type": "code",
   "outputs": [
    {
     "name": "stdout",
     "output_type": "stream",
     "text": [
      "/Users/octamarina/miniconda3/envs/Tesla-forecasting/bin/python\r\n",
      "no change     /Users/octamarina/miniconda3/condabin/conda\r\n",
      "no change     /Users/octamarina/miniconda3/bin/conda\r\n",
      "no change     /Users/octamarina/miniconda3/bin/conda-env\r\n",
      "no change     /Users/octamarina/miniconda3/bin/activate\r\n",
      "no change     /Users/octamarina/miniconda3/bin/deactivate\r\n",
      "no change     /Users/octamarina/miniconda3/etc/profile.d/conda.sh\r\n",
      "no change     /Users/octamarina/miniconda3/etc/fish/conf.d/conda.fish\r\n",
      "no change     /Users/octamarina/miniconda3/shell/condabin/Conda.psm1\r\n",
      "no change     /Users/octamarina/miniconda3/shell/condabin/conda-hook.ps1\r\n",
      "no change     /Users/octamarina/miniconda3/lib/python3.11/site-packages/xontrib/conda.xsh\r\n",
      "no change     /Users/octamarina/miniconda3/etc/profile.d/conda.csh\r\n",
      "no change     /Users/octamarina/.zshrc\r\n",
      "No action taken.\r\n",
      "\r\n",
      "CondaError: Run 'conda init' before 'conda activate'\r\n",
      "\r\n",
      "\u001B[33mWARNING: Skipping prophet as it is not installed.\u001B[0m\u001B[33m\r\n",
      "\u001B[0mChannels:\r\n",
      " - conda-forge\r\n",
      " - defaults\r\n",
      "Platform: osx-arm64\r\n",
      "Collecting package metadata (repodata.json): done\r\n",
      "Solving environment: done\r\n",
      "\r\n",
      "# All requested packages already installed.\r\n",
      "\r\n",
      "\u001B[33mWARNING: Package(s) not found: prophet\u001B[0m\u001B[33m\r\n",
      "\u001B[0m"
     ]
    }
   ],
   "source": [
    "!which python\n",
    "!conda init zsh\n",
    "!conda activate Tesla-forecasting\n",
    "!pip uninstall prophet -y\n",
    "!conda install -c conda-forge prophet -y\n",
    "!pip show prophet"
   ],
   "metadata": {
    "collapsed": false,
    "ExecuteTime": {
     "end_time": "2025-01-12T16:24:30.902829Z",
     "start_time": "2025-01-12T16:24:19.068283Z"
    }
   },
   "id": "172246ce52483d44",
   "execution_count": 97
  },
  {
   "cell_type": "code",
   "outputs": [],
   "source": [
    "from prophet import Prophet"
   ],
   "metadata": {
    "collapsed": false,
    "ExecuteTime": {
     "end_time": "2025-01-12T16:34:08.206236Z",
     "start_time": "2025-01-12T16:34:08.191490Z"
    }
   },
   "id": "591292756df9234b",
   "execution_count": 4
  },
  {
   "cell_type": "code",
   "outputs": [],
   "source": [],
   "metadata": {
    "collapsed": false
   },
   "id": "eebf12e04e20d1a1"
  }
 ],
 "metadata": {
  "kernelspec": {
   "display_name": "Python 3",
   "language": "python",
   "name": "python3"
  },
  "language_info": {
   "codemirror_mode": {
    "name": "ipython",
    "version": 2
   },
   "file_extension": ".py",
   "mimetype": "text/x-python",
   "name": "python",
   "nbconvert_exporter": "python",
   "pygments_lexer": "ipython2",
   "version": "2.7.6"
  }
 },
 "nbformat": 4,
 "nbformat_minor": 5
}
